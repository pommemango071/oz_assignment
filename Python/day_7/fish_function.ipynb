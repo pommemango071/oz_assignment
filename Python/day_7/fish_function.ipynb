{
 "cells": [
  {
   "cell_type": "code",
   "id": "initial_id",
   "metadata": {
    "collapsed": true,
    "ExecuteTime": {
     "end_time": "2024-10-22T09:20:17.023792Z",
     "start_time": "2024-10-22T09:19:52.207412Z"
    }
   },
   "source": [
    "from functools import total_ordering\n",
    "\n",
    "stock = {\"팥붕어빵\" : 10,\n",
    "        \"슈크림붕어빵\" : 8,\n",
    "        \"초코붕어빵\" : 5}\n",
    "price = {\n",
    "    \"팥붕어빵\" : 1000,\n",
    "    \"슈크림붕어빵\" : 1200,\n",
    "    \"초코붕어빵\" : 1500,\n",
    "}\n",
    "\n",
    "sales = {\n",
    "    \"팥붕어빵\" : 0,\n",
    "    \"슈크림붕어빵\" : 0,\n",
    "    \"초코붕어빵\" : 0,\n",
    "}\n",
    "\n",
    "def main():\n",
    "    while True:\n",
    "        mode = input(\"원하는 모드를 선택해주세요(주문, 관리자, 종료): \")\n",
    "        \n",
    "        if mode == \"종료\":\n",
    "            break\n",
    "            \n",
    "        if mode == \"주문\":\n",
    "            order_bread()\n",
    "            \n",
    "        if mode == \"관리자\":\n",
    "            manage_stock()\n",
    "    print(\"기능을 종료합니다.\")\n",
    "    total_sales()\n",
    "    each_sales()\n",
    "        \n",
    "\n",
    "def order_bread(): # 주문을 받는 기능입니다.\n",
    "    while True:\n",
    "        bread_type = input(\"붕어빵 종류를 입력해주세요(팥붕어빵, 슈크림붕어빵, 초코붕어빵 중 하나를 선택해주세요) 뒤로 돌아가길 원하시면 돌아가기를 입력해주세요 :\")\n",
    "        if bread_type == \"돌아가기\": # bread_type에는 초코붕어빵 \n",
    "            break\n",
    "        bread_count = int(input(\"주문할 붕어빵 개수를 입력해주세요 : \")) #str \"3\", '3' int() 함수 => 특정 기능이 작동되도록 모아놓은 코드다 => 자료형을 숫자로 형태의 자료로 만드는 기능의 함수\n",
    "        if stock[bread_type] >= bread_count:\n",
    "           stock[bread_type] -= bread_count #  stock[\"초코붕어빵\"] = 5-3\n",
    "           sales[bread_type] += bread_count\n",
    "           print(f\"{bread_type} {bread_count}개를 판매했습니다.\")\n",
    "        else:\n",
    "            print(\"현재 주문한 붕어빵의 개수보다 적어 판매가 불가합니다.\")\n",
    "    \n",
    "def manage_stock(): # 관리자 기능입니다.\n",
    "    while True:\n",
    "        bread_type = input(\"추가할 붕어빵 종류를 입력해주세요(팥붕어빵, 슈크림붕어빵, 초코붕어빵 중 하나를 선택해주세요) 뒤로 돌아가길 원하시면 돌아가기를 입력해주세요 :\")\n",
    "        if bread_type == \"돌아가기\": # bread_type에는 초코붕어빵 \n",
    "            break\n",
    "        bread_count = int(input(\"추가할 붕어빵 개수를 입력하세요: \"))\n",
    "        stock[bread_type] += bread_count #stock[\"초코붕어빵\"] 5 + bread_count 10 => 15 => stock[\"초코붕어빵\"] = 15 덮어씌우기\n",
    "        print(f\"{bread_type}의 재고가 {bread_count}개 추가되어, 현재 총 {stock[bread_type]}개 입니다.\")\n",
    "\n",
    "def total_sales():\n",
    "    total_sales = sum(sales[bread_type] * price[bread_type] for bread_type in sales)\n",
    "    print(f'총 매출액: {total_sales}원')\n",
    "\n",
    "def each_sales():\n",
    "# 각 붕어빵 별 매출액\n",
    "    for bread_type in sales:\n",
    "        each_sales = sales[bread_type] * price[bread_type]\n",
    "        print(f'{bread_type}의 매출액: {each_sales}원')\n",
    "    \n",
    "main()"
   ],
   "outputs": [
    {
     "name": "stdout",
     "output_type": "stream",
     "text": [
      "팥붕어빵 5개를 판매했습니다.\n",
      "슈크림붕어빵 5개를 판매했습니다.\n",
      "기능을 종료합니다.\n",
      "총 매출액: 11000원\n",
      "팥붕어빵의 매출액: 5000원\n",
      "슈크림붕어빵의 매출액: 6000원\n",
      "초코붕어빵의 매출액: 0원\n"
     ]
    }
   ],
   "execution_count": 14
  }
 ],
 "metadata": {
  "kernelspec": {
   "display_name": "Python 3",
   "language": "python",
   "name": "python3"
  },
  "language_info": {
   "codemirror_mode": {
    "name": "ipython",
    "version": 2
   },
   "file_extension": ".py",
   "mimetype": "text/x-python",
   "name": "python",
   "nbconvert_exporter": "python",
   "pygments_lexer": "ipython2",
   "version": "2.7.6"
  }
 },
 "nbformat": 4,
 "nbformat_minor": 5
}
