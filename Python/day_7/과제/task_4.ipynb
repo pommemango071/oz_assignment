{
 "cells": [
  {
   "cell_type": "markdown",
   "metadata": {},
   "source": [
    "사용자 정의 예외 NegativeNumberError를 생성하고, 사용자로부터 숫자를 입력받아 음수일 경우 NegativeNumberError를 발생시키는 프로그램을 작성하세요. \n",
    "\n",
    "- 예외 처리 구문을 사용하여 음수 입력 시 \"양수를 입력해주세요.\"라는 메시지를 출력"
   ]
  },
  {
   "metadata": {
    "ExecuteTime": {
     "end_time": "2024-10-22T15:42:39.430720Z",
     "start_time": "2024-10-22T15:42:36.780647Z"
    }
   },
   "cell_type": "code",
   "source": [
    "class NegativeNumberError(Exception):\n",
    "    pass\n",
    "\n",
    "def get_number():\n",
    "    try:\n",
    "        number = int(input(\"숫자를 입력하세요.\"))\n",
    "        if number < 0:\n",
    "            raise NegativeNumberError\n",
    "        print(f'입력한 숫자는 {number}입니다.')\n",
    "    except NegativeNumberError:\n",
    "        print(\"음수가 입력되었습니다. 양수를 입력해주세요.\")   \n",
    "        \n",
    "if __name__ == '__main__':\n",
    "    get_number()\n",
    "        "
   ],
   "outputs": [
    {
     "name": "stdout",
     "output_type": "stream",
     "text": [
      "음수가 입력되었습니다. 양수를 입력해주세요.\n"
     ]
    }
   ],
   "execution_count": 19
  }
 ],
 "metadata": {
  "language_info": {
   "name": "python"
  },
  "kernelspec": {
   "name": "python3",
   "language": "python",
   "display_name": "Python 3 (ipykernel)"
  }
 },
 "nbformat": 4,
 "nbformat_minor": 2
}
