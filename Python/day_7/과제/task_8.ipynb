{
 "cells": [
  {
   "cell_type": "markdown",
   "metadata": {},
   "source": [
    "여러분이 자주 사용하는 수학적 연산<br>\n",
    "(예: 삼각형 넓이, 원의 넓이, 직육면체의 넓이)을 수행하는 함수들을 포함하는 mymath.py라는 이름의 모듈을 만드세요. \n",
    "\n",
    "이 모듈을 사용하여 작성된 함수들을 실제로 임포트하고 사용하는 간단한 프로그램을 작성하세요."
   ]
  },
  {
   "metadata": {
    "ExecuteTime": {
     "end_time": "2024-10-23T01:34:43.949676Z",
     "start_time": "2024-10-23T01:34:43.719376Z"
    }
   },
   "cell_type": "code",
   "source": [
    "# Jupyter notebook을 import할 때 쓰이는 매직명령어 -> %run\n",
    "%run mymath.ipynb\n",
    "\n",
    "print(\"빗변의 길이:\", hypotenuse(4,8))"
   ],
   "outputs": [
    {
     "name": "stdout",
     "output_type": "stream",
     "text": [
      "빗변의 길이: 8.94427190999916\n"
     ]
    }
   ],
   "execution_count": 22
  }
 ],
 "metadata": {
  "language_info": {
   "name": "python"
  },
  "kernelspec": {
   "name": "python3",
   "language": "python",
   "display_name": "Python 3 (ipykernel)"
  }
 },
 "nbformat": 4,
 "nbformat_minor": 2
}
