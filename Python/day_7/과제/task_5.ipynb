{
 "cells": [
  {
   "cell_type": "markdown",
   "metadata": {},
   "source": [
    "datetime 모듈을 사용하여 현재 날짜와 시간을 출력하는 프로그램을 작성하세요. \n",
    "\n",
    "또한, 사용자로부터 태어난 년도를 입력받아 현재 나이를 계산하여 출력하세요."
   ]
  },
  {
   "metadata": {
    "ExecuteTime": {
     "end_time": "2024-10-22T15:53:41.216119Z",
     "start_time": "2024-10-22T15:53:33.290315Z"
    }
   },
   "cell_type": "code",
   "source": [
    "from datetime import datetime\n",
    "\n",
    "# 현재 날짜와 시간\n",
    "now = datetime.now()\n",
    "print(\"현재 날짜 및 시간:\", now.strftime(\"%Y-%m-%d %H:%M:%S\"))\n",
    "\n",
    "# 사용자 태어난 년도\n",
    "birth_year = int(input(\"태어난 년도를 입력하세요.\"))\n",
    "now_age = now.year - birth_year\n",
    "print(\"현재 나이:\", now_age)\n",
    "\n"
   ],
   "outputs": [
    {
     "name": "stdout",
     "output_type": "stream",
     "text": [
      "현재 날짜 및 시간: 2024-10-23 00:53:33\n",
      "현재 나이: 24\n"
     ]
    }
   ],
   "execution_count": 5
  }
 ],
 "metadata": {
  "language_info": {
   "name": "python"
  },
  "kernelspec": {
   "name": "python3",
   "language": "python",
   "display_name": "Python 3 (ipykernel)"
  }
 },
 "nbformat": 4,
 "nbformat_minor": 2
}
