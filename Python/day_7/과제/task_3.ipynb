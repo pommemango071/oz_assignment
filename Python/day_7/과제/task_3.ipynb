{
 "cells": [
  {
   "cell_type": "markdown",
   "metadata": {},
   "source": [
    "사용자로부터 여러 개의 숫자를 입력받아 리스트에 저장한 후, 사용자가 'done'이라고 입력할 때까지 계속 입력받으세요. \n",
    "\n",
    "- 입력 중 숫자가 아닌 값이 입력되면 ValueError를 처리\n",
    "- 숫자 외 값이 입력된 경우 어떤 값이 잘못 입력되었는지 사용자에게 알려주는 문구 출력<br>\n",
    "  (예: f\"잘못된 값: {변수}. 숫자를 입력해주세요.\")\n",
    "\n"
   ]
  },
  {
   "metadata": {
    "ExecuteTime": {
     "end_time": "2024-10-22T07:30:26.769820Z",
     "start_time": "2024-10-22T07:30:13.887950Z"
    }
   },
   "cell_type": "code",
   "source": [
    "numbers = []\n",
    "\n",
    "# 계속 입력_무한 루프\n",
    "while True:\n",
    "    try:\n",
    "        user_input = input(\"숫자를 입력하세요. (종료를 원하면 'done'을 입력)\")\n",
    "        if user_input == 'done':\n",
    "            break\n",
    "        \n",
    "        number = int(user_input)            \n",
    "        numbers.append(number)\n",
    "        \n",
    "    except ValueError:\n",
    "        print(f'잘못된 값: {user_input}, 숫자를 입력해주세요.')    \n"
   ],
   "outputs": [
    {
     "name": "stdout",
     "output_type": "stream",
     "text": [
      "잘못된 값: b, 숫자를 입력해주세요.\n",
      "잘못된 값: c, 숫자를 입력해주세요.\n"
     ]
    }
   ],
   "execution_count": 7
  }
 ],
 "metadata": {
  "language_info": {
   "name": "python"
  },
  "kernelspec": {
   "name": "python3",
   "language": "python",
   "display_name": "Python 3 (ipykernel)"
  }
 },
 "nbformat": 4,
 "nbformat_minor": 2
}
