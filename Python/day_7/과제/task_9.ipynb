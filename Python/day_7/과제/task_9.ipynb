{
 "cells": [
  {
   "cell_type": "markdown",
   "metadata": {},
   "source": [
    "animals라는 패키지를 만들고, 이 패키지 내에 mammals, birds라는 두 개의 서브 모듈을 생성하세요. \n",
    "\n",
    "- 각 모듈에는 최소한 한 개 이상의 동물에 관한 클래스를 정의하세요<br>\n",
    "  (예: mammals에는 Dog, birds에는 Eagle)\n",
    "- 이 패키지와 모듈을 사용하여 동물들의 정보를 출력하는 프로그램을 작성\n",
    "\n",
    "폴더 및 파일 구조\n",
    "```\n",
    "animals/(폴더)\n",
    "├── __init__.py\n",
    "├── mammals.py\n",
    "└── birds.py\n",
    "```\n"
   ]
  },
  {
   "metadata": {
    "ExecuteTime": {
     "end_time": "2024-10-23T02:15:00.474284Z",
     "start_time": "2024-10-23T02:15:00.465213Z"
    }
   },
   "cell_type": "code",
   "source": [
    "# Jupyter notebook을 import할 때 쓰이는 매직명령어 -> %run\n",
    "%run animals/mammals.py\n",
    "%run animals/birds.py \n",
    "\n",
    "dog = Dog(breed=\"말티즈\", name=\"송이\")\n",
    "print(dog.info())\n",
    "\n",
    "eagle = Eagle(species=\"Aquila chrysaetos\")\n",
    "print(eagle.info())\n"
   ],
   "outputs": [
    {
     "name": "stdout",
     "output_type": "stream",
     "text": [
      "품종: 말티즈, 이름: 송이\n",
      "종: Aquila chrysaetos\n"
     ]
    }
   ],
   "execution_count": 29
  }
 ],
 "metadata": {
  "language_info": {
   "name": "python"
  },
  "kernelspec": {
   "name": "python3",
   "language": "python",
   "display_name": "Python 3 (ipykernel)"
  }
 },
 "nbformat": 4,
 "nbformat_minor": 2
}
