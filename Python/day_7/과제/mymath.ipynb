{
 "cells": [
  {
   "cell_type": "code",
   "id": "initial_id",
   "metadata": {
    "collapsed": true,
    "ExecuteTime": {
     "end_time": "2024-10-23T01:30:41.880982Z",
     "start_time": "2024-10-23T01:30:41.876102Z"
    }
   },
   "source": [
    "# 피타고라스의 정리에 따른 직각삼각형의 빗변의 길이를 계산하고자 할때\n",
    "\n",
    "import math\n",
    "\n",
    "def hypotenuse(a,b):\n",
    "    return math.sqrt(a**2 + b**2)"
   ],
   "outputs": [],
   "execution_count": 4
  }
 ],
 "metadata": {
  "kernelspec": {
   "display_name": "Python 3",
   "language": "python",
   "name": "python3"
  },
  "language_info": {
   "codemirror_mode": {
    "name": "ipython",
    "version": 2
   },
   "file_extension": ".py",
   "mimetype": "text/x-python",
   "name": "python",
   "nbconvert_exporter": "python",
   "pygments_lexer": "ipython2",
   "version": "2.7.6"
  }
 },
 "nbformat": 4,
 "nbformat_minor": 5
}
