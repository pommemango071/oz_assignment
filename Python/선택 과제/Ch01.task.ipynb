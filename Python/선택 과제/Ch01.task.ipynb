{
 "cells": [
  {
   "cell_type": "markdown",
   "metadata": {},
   "source": [
    "<span style=\"font-size:100%\">\n",
    "\n",
    "수업은 모두 열심히 들으셨나요?\n",
    "\n",
    "간혹 강의에서 언급되지 않은 내용이 문제로 나올 수 있습니다.<br>\n",
    "그럴땐 강의 내용 외 문제는 구글링을 통해 해결해주세요<br></span>\n",
    "<span style=\"font-size:80%\">\n",
    "(구글링 또한 개발자가 갖쳐야할 역량 중에 하나랍니다 😊)\n",
    "</span>\n",
    "\n",
    "---"
   ]
  },
  {
   "cell_type": "markdown",
   "metadata": {},
   "source": [
    "<span style=\"font-size:80%\">[문제1]<br><br></span>\n",
    "```인터프리트 방식에 대해 설명하고 2개 이상의 장점을 설명해주세요```"
   ]
  },
  {
   "cell_type": "markdown",
   "metadata": {},
   "source": "<span style=\"color:red\">답변</span>"
  },
  {
   "cell_type": "markdown",
   "metadata": {},
   "source": [
    "인터프리터 방식은 프로그램을 실행할 때 인터프리터를 이용하여 코드를 한 줄씩 읽어나가며 실행하는 방식. 인터프리터 방식을 이용하는 고긃 프로그래밍 언어로는 JavaScript, Python, SQL 등이 있다.\n",
    "장점은 다음과 같다.\n",
    "1. 인터프리터를 이용하면 바로 읽어내기 때문에 프로그램의 이식성이 좋다.\n",
    "2. 오류 발생 시 읽던 부분에서 멈추게 되므로 오류 발견이 쉬운편이다.\n",
    "3. 컴파일이라는 과정이 없기 때문에 오류에 대한 수정도 빠른편이다."
   ]
  },
  {
   "cell_type": "markdown",
   "metadata": {},
   "source": [
    "---"
   ]
  },
  {
   "cell_type": "markdown",
   "metadata": {},
   "source": [
    "<span style=\"font-size:80%\">[문제2]<br><br></span>\n",
    "```동적 타입 방식의 장점과 단점을 간략히 설명해주세요```"
   ]
  },
  {
   "cell_type": "markdown",
   "metadata": {},
   "source": [
    "<span style=\"color:red\">답변</span>"
   ]
  },
  {
   "metadata": {},
   "cell_type": "markdown",
   "source": [
    "동적 타입 방식의 언어는 컴파일이 아니라 런타임 때 타입이 결정되는 언어로써 타입 없이 변수만 선언해서 값을 지정할 수 있다.\n",
    "장점: 컴파일 시 타입을 명시해주지 않아도 되기 때문에 빠르게 코드 작성이 가능하다. 또한 사용하기 위해 지켜야 할 규칙이 적어 러닝 커브가 낮고 상대적으로 코드가 짧다.\n",
    "단점: 런타임 실행 도중에 예상치 못한 타입이 들어와 타입 에러 발생이 발생할 수 있다. 런타임 시 에러를 확인할 수 있기 때문에 코드가 길고 복잡해질 경우 타입 에러를 찾기 어려워진다."
   ]
  },
  {
   "metadata": {},
   "cell_type": "markdown",
   "source": "---"
  },
  {
   "cell_type": "markdown",
   "metadata": {},
   "source": [
    "<span style=\"font-size:80%\">[문제3]<br><br></span>\n",
    "```Python으로 정적타입 방식의 코드를 작성할 수 있는 방법을 구글링을 통해 검색 후 설명해주세요```"
   ]
  },
  {
   "cell_type": "markdown",
   "metadata": {},
   "source": "<span style=\"color:red\">답변</span>"
  },
  {
   "cell_type": "markdown",
   "metadata": {},
   "source": [
    "Type Hinting이 있다. 이는 변수, 함수, 클래스 등에서 사용하는 데이터 타입을 명시적으로 지정하는 방법이다. 이를 통해 코드의 가독성을 높이고, 정적 분석 도구를 사용하여 타입 검사를 할 수 있다.\n",
    "Type hinting은 Python 3.5부터 도입되었다."
   ]
  },
  {
   "cell_type": "markdown",
   "metadata": {},
   "source": [
    "---"
   ]
  },
  {
   "cell_type": "markdown",
   "metadata": {},
   "source": [
    "<span style=\"font-size:80%\">[문제4]<br><br></span>\n",
    "```프로세스와 스레드의 차이점을 설명해주세요```"
   ]
  },
  {
   "cell_type": "markdown",
   "metadata": {},
   "source": [
    "<span style=\"color:red\">답변</span>"
   ]
  },
  {
   "cell_type": "markdown",
   "metadata": {},
   "source": [
    "프로세스는 운영체제로부터 자원을 할당받은 작업의 단위이고, 스레드는 프로세스가 할당받은 자원을 이용하는 실행 흐름의 단위이다.\n",
    "프로세스는 최소 하나의 스레드를 보유하고 있으며, 각각 별도의 주소 공간을 독립적으로 할당 받는다.(code, heap, stack)\n",
    "스레드는 이중에 stack만 따로 할당받고 나머지 영역은 스레드끼리 서로 공유한다."
   ]
  },
  {
   "cell_type": "markdown",
   "metadata": {},
   "source": [
    "---"
   ]
  },
  {
   "cell_type": "markdown",
   "metadata": {},
   "source": [
    "<span style=\"font-size:80%\">[문제5]<br><br></span>\n",
    "```Python 2버전대와 3버전대의 차이를 성명해주세요```"
   ]
  },
  {
   "cell_type": "markdown",
   "metadata": {},
   "source": [
    "<span style=\"color:red\">답변</span>"
   ]
  },
  {
   "cell_type": "markdown",
   "metadata": {},
   "source": [
    "Python 3에서는 기본적으로 문자열을 Unicode를 python 2에서는 기본적으로 문자열은 ASC II 로, Unicode 시에는 \"u\"를 붙여아한다.\n",
    "또한 python 3는 정수 처리 기능이 개선되었으며, 가비지 수집 및 메모리 할당 기능, 기존 목록을 기반으로 목록을 만드는 기능이 추가되었다.\n"
   ]
  },
  {
   "cell_type": "markdown",
   "metadata": {},
   "source": [
    "---"
   ]
  },
  {
   "cell_type": "markdown",
   "metadata": {},
   "source": [
    "<span style=\"font-size:80%\">[문제6]<br><br></span>\n",
    "```Python에서 메모리 관리는 어떻게 이루어지는지 설명해주세요```"
   ]
  },
  {
   "cell_type": "markdown",
   "metadata": {},
   "source": [
    "<span style=\"color:red\">답변</span>"
   ]
  },
  {
   "cell_type": "markdown",
   "metadata": {},
   "source": [
    "Python의 모든 것은 CPython 이라는 C언어의 struct로 구현되어 있다. 그리고 CPython은 다음 두가지 방법으로 garbage collection을 수행한다.\n",
    "1. Reference Counting: python의 모든 객체는 PyObject라는 객체를 상속받는다. 여기서 ob_refcnt 변수가 바로 특정 객체가 얼마나 많이 참조되는지를 의미하는 변수이다.\n",
    "즉, Python의 모든 객체는 자기가 얼마나 참조되는지를 내부 변수를 통해 기억하고 있는 것이다. ob_refcnt는 객체가 참조될 때마다 1씩 늘어나고, 참조가 해제될 때마다 1씩 감소한다.\n",
    "0이 되면 python은 해당 객체애 대한 메모리를 free한다.\n",
    "다른 언어와는 다르게, 소스코드로 따로 python의 reference counting을 해제할 수 없다.\n",
    "2. Generational garbage collection: python의 모든 객체를 tracking하여 객체의 수가 일정 임계값을 넘으면 자동으로 garbage collector가 작동하여 메모리를 정리하는 구조이다."
   ]
  }
 ],
 "metadata": {
  "language_info": {
   "name": "python"
  }
 },
 "nbformat": 4,
 "nbformat_minor": 2
}
