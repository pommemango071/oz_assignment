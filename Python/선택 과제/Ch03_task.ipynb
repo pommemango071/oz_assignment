{
 "cells": [
  {
   "cell_type": "markdown",
   "metadata": {},
   "source": [
    "<span style=\"font-size:100%\">\n",
    "\n",
    "수업은 모두 열심히 들으셨나요?\n",
    "\n",
    "간혹 강의에서 언급되지 않은 내용이 문제로 나올 수 있습니다.<br>\n",
    "그럴땐 강의 내용 외 문제는 구글링을 통해 해결해주세요<br></span>\n",
    "<span style=\"font-size:80%\">\n",
    "(구글링 또한 개발자가 갖쳐야할 역량 중에 하나랍니다 😊)\n",
    "</span>\n",
    "\n",
    "---"
   ]
  },
  {
   "cell_type": "markdown",
   "metadata": {},
   "source": [
    "<span style=\"font-size:80%\">[문제1]<br><br></span>\n",
    "```주로 작성 중인 코드의 끝을 알리는 기호로 사용되며 파이썬에서 한 줄에 작성된 서로 다른 코드를 구분 지을 때 사용할 수 있는 기호를 골라주세요```\n",
    "\n",
    "1. ' , ' (쉼표)\n",
    "2. ' + ' (더하기 기호)\n",
    "3. ' ; ' (세미콜론)\n",
    "4. ' / ' (슬래시)"
   ]
  },
  {
   "cell_type": "markdown",
   "metadata": {},
   "source": [
    "<span style=\"color:red\">답변</span> :"
   ]
  },
  {
   "cell_type": "markdown",
   "metadata": {},
   "source": "3. ' ; ' (세미콜론)"
  },
  {
   "cell_type": "markdown",
   "metadata": {},
   "source": [
    "----"
   ]
  },
  {
   "cell_type": "markdown",
   "metadata": {},
   "source": [
    "<span style=\"font-size:80%\">[문제2]<br><br></span>\n",
    "```Python의 PEP 8은 무엇인지 설명하고 PEP 8의 핵심적인 규칙을 1개 이상을 설명해주세요```"
   ]
  },
  {
   "cell_type": "markdown",
   "metadata": {},
   "source": [
    "<span style=\"color:red\">답변</span>"
   ]
  },
  {
   "cell_type": "markdown",
   "metadata": {},
   "source": [
    "PEP 8은 python code를 작성할 때 따라야 할 스타일 가이드로, 변수명부터 들여쓰기, 줄바꿈, 주석 처리 방법 등 다양한 코딩 규칙을 포함하고 있다. \n",
    "\n",
    "이 가이드 라인을 따름으로써 개발자는 보다 일관된 스타일을 유지할 수 있으며, 이는 협업 시 코드의 이해도를 높이고 오류 가능성을 줄일 수 있다.\n",
    "\n",
    "일관된 코드 스타일은 코드 리뷰 과정을 간소화하고, 프로젝트의 전반적인 품질을 향상시키기 때문이다.\n",
    "\n",
    "PEP 8의 주요 규칙은,\n",
    "1. 들여쓰기는 공백 4칸을 사용해야 한다. 이는 코드의 구조를 명확하게 하며, 가독성을 높인다.\n",
    "2. 한 줄은 최대 79자까지만 작성하는 것이 좋다. 이는 코드를 여러 환경에서도 쉽게 읽을 수 있게 하며, 복잡한 표현을 간결하게 만드는데 도움이 된다.\n",
    "3. 함수와 클래스, 함수 내의 큰 코드 블록 사이에는 빈 줄을 두개 사용하여 구분한다. 이는 코드의 구조를 더 명확하게 하며, 관련없는 코드 블록 사이의 구분을 용이하게 한다.\n",
    "4. 변수명과 함수명은 소문자로 작성하고, 단어 사이는 밑줄로 구분한다. 이는 이름에서의 의도를 명확하게 전달하는데 도움이 된다."
   ]
  },
  {
   "cell_type": "markdown",
   "metadata": {},
   "source": [
    "----"
   ]
  },
  {
   "cell_type": "markdown",
   "metadata": {},
   "source": [
    "<span style=\"font-size:80%\">[문제3]<br><br></span>\n",
    "```Python에서 \"#\"이 의마하는 것은 무엇인지 설명해주세요```"
   ]
  },
  {
   "metadata": {},
   "cell_type": "markdown",
   "source": "<span style=\"color:red\">답변</span>"
  },
  {
   "metadata": {},
   "cell_type": "markdown",
   "source": "한 줄 주석 처리할 때 주석 처리 하고 싶은 코드 맨 앞에 사용한다."
  },
  {
   "cell_type": "markdown",
   "metadata": {},
   "source": [
    "----"
   ]
  },
  {
   "cell_type": "markdown",
   "metadata": {},
   "source": [
    "<span style=\"font-size:80%\">[문제4]<br><br></span>\n",
    "```Python의 들여쓰기 장점과 기능에 대해 설명해주세요```"
   ]
  },
  {
   "cell_type": "markdown",
   "metadata": {},
   "source": [
    "<span style=\"color:red\">답변</span>"
   ]
  },
  {
   "metadata": {},
   "cell_type": "markdown",
   "source": [
    "Python에서 들여쓰기의 장점은 코드의 가독성을 향상 시키고, 코드 베이스 전체에서 일관성 있는 스타일을 유지하고 코드를 더 쉽게 유지 보수 할 수 있게 한다.\n",
    "\n",
    "기능으로서는 블록의 시작과 끝이 명시적으로 표시되므로 중괄호를 사용하는 언어에서 발생하는 오류 중 일부를 방지 할 수 있다.\n",
    " \n",
    "또한 코드 블록을 강제하므로 잘못된 코드 구조를 방지할 수 있다."
   ]
  },
  {
   "metadata": {},
   "cell_type": "markdown",
   "source": "----"
  },
  {
   "cell_type": "markdown",
   "metadata": {},
   "source": [
    "<span style=\"font-size:80%\">[문제5]<br><br></span>\n",
    "```print( )문의 기능 및 특징에 대해 설명해주세요```"
   ]
  },
  {
   "metadata": {},
   "cell_type": "markdown",
   "source": "<span style=\"color:red\">답변</span>"
  },
  {
   "metadata": {},
   "cell_type": "markdown",
   "source": [
    "화면에 원하는 내용을 출력하는 기능을 수행한다.\n",
    "\n",
    "함수의 괄호 안에 출력하고 싶은 것을 콤마를 사용한 뒤 나열해서 사용하게 된다.\n",
    "\n",
    "문자열을 출력하려면 따옴표(큰따옴표 또는 작은 따옴표)를 사용하여 묶어주어야 한다.\n",
    "\n",
    "변수에 저장한 값을 출력할 때는 변수명만 쓴다."
   ]
  }
 ],
 "metadata": {
  "language_info": {
   "name": "python"
  }
 },
 "nbformat": 4,
 "nbformat_minor": 2
}
