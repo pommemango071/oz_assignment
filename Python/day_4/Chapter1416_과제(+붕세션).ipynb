{
 "cells": [
  {
   "cell_type": "markdown",
   "metadata": {
    "id": "BX7SgOeWu86I"
   },
   "source": [
    "안녕하세요. 수강생 여러분~! Chapter14 ~ 16 수업은 잘 들으셨나요?\n",
    "\n",
    "Chapter14 ~ 16의 수업 내용을 바탕으로 아래 문제를 풀어주시면 됩니다.\n",
    "\n",
    "[**답변 입력 방법**]\n",
    "\n",
    "문제 아래에 있는 코드 입력창에 정답코드를 작성하신 후 ▷ 버튼을 클릭해 코드를 실행해보세요<br>"
   ]
  },
  {
   "cell_type": "markdown",
   "metadata": {},
   "source": [
    "---"
   ]
  },
  {
   "cell_type": "markdown",
   "metadata": {
    "id": "7kQJMRuFu-6s"
   },
   "source": [
    "[문제1]\n",
    "\n",
    "주어진 정수 x와 자연수 n을 이용해, x부터 시작해 x씩 증가하는 숫자를 n개 지니는 리스트를 출력해주세요   \n",
    "\n",
    "x = 2, n =5"
   ]
  },
  {
   "cell_type": "code",
   "metadata": {
    "id": "juUF2KYbu0DX",
    "ExecuteTime": {
     "end_time": "2024-10-17T06:37:26.499353Z",
     "start_time": "2024-10-17T06:37:26.490660Z"
    }
   },
   "source": [
    "from babel.numbers import number_re\n",
    "\n",
    "x = 2\n",
    "n = 5\n",
    "\n",
    "[i * x for i in range(1, n + 1)]\n"
   ],
   "outputs": [
    {
     "data": {
      "text/plain": [
       "[2, 4, 6, 8, 10]"
      ]
     },
     "execution_count": 2,
     "metadata": {},
     "output_type": "execute_result"
    }
   ],
   "execution_count": 2
  },
  {
   "cell_type": "markdown",
   "metadata": {},
   "source": [
    "---"
   ]
  },
  {
   "cell_type": "markdown",
   "metadata": {
    "id": "4BPXMLXUvBVL"
   },
   "source": [
    "[문제2]\n",
    "\n",
    "\n",
    "전화번호가 문자열 phone_number로 주어졌을 때, 전화번호의 뒷 4자리를 *으로 가린 문자열이 출력되도록 코드를 작성해주세요\n",
    "\n",
    "phone_number = \"01012347890\"  \n",
    "\n",
    "출력 예시 : \"0101234****\""
   ]
  },
  {
   "cell_type": "code",
   "metadata": {
    "id": "P0fY7CYUvC_j",
    "ExecuteTime": {
     "end_time": "2024-10-17T06:48:39.531707Z",
     "start_time": "2024-10-17T06:48:39.527473Z"
    }
   },
   "source": [
    "phone_number = \"01012347890\" \n",
    "\n",
    "masked_phone_number = phone_number[:-4] + \"****\" \n",
    "\n",
    "print(masked_phone_number)"
   ],
   "outputs": [
    {
     "name": "stdout",
     "output_type": "stream",
     "text": [
      "0101234****\n"
     ]
    }
   ],
   "execution_count": 9
  },
  {
   "cell_type": "markdown",
   "metadata": {},
   "source": [
    "---"
   ]
  },
  {
   "cell_type": "markdown",
   "metadata": {
    "id": "uUdOU9cFvDsq"
   },
   "source": [
    "[문제3]\n",
    "\n",
    "숫자를 건넬 때 일부 자릿수를 영단어로 바꾼 카드를 건네주면 프로도는 원래 숫자를 찾는 게임입니다.\n",
    "\n",
    "다음은 숫자의 일부 자릿수를 영단어로 바꾸는 예시입니다.\n",
    "\n",
    "1478 → \"one4seveneight\"  \n",
    "234567 → \"23four5six7\"  \n",
    "10203 → \"1zerotwozero3\"    \n",
    "\n",
    "이렇게 숫자의 일부 자릿수가 영단어로 바뀌어졌거나,   \n",
    "혹은 바뀌지 않고 그대로인 문자열 s가 주어졌을때\n",
    "s가 의미하는 원래 숫자를 출력하도록 코드를 작성해주세요\n",
    "\n",
    "s = \"77three4one\n",
    "\n",
    "---\n",
    "참고로 각 숫자에 대응되는 영단어는 다음 표와 같습니다.\n",
    "\n",
    "숫자\t영단어  \n",
    "0\tzero  \n",
    "1\tone  \n",
    "2\ttwo  \n",
    "3\tthree  \n",
    "4\tfour  \n",
    "5\tfive  \n",
    "6\tsix  \n",
    "7\tseven  \n",
    "8\teight  \n",
    "9\tnine  "
   ]
  },
  {
   "cell_type": "code",
   "metadata": {
    "id": "2NmqRFgDvFtz",
    "ExecuteTime": {
     "end_time": "2024-10-17T06:49:04.097043Z",
     "start_time": "2024-10-17T06:49:04.091734Z"
    }
   },
   "source": [
    "number_mapping = {\n",
    "    'zero': '0',\n",
    "    'one': '1',\n",
    "    'two': '2',\n",
    "    'three': '3',\n",
    "    'four': '4',\n",
    "    'five': '5',\n",
    "    'six': '6',\n",
    "    'seven': '7',\n",
    "    'eight': '8',\n",
    "    'nine': '9'\n",
    "}\n",
    "\n",
    "s = \"77three4one\"\n",
    "\n",
    "for key in number_mapping.keys():\n",
    "    s = s.replace(key, number_mapping[key])\n",
    "    \n",
    "print(s)"
   ],
   "outputs": [
    {
     "name": "stdout",
     "output_type": "stream",
     "text": [
      "77341\n"
     ]
    }
   ],
   "execution_count": 11
  },
  {
   "cell_type": "markdown",
   "metadata": {},
   "source": [
    "---"
   ]
  },
  {
   "cell_type": "markdown",
   "metadata": {
    "id": "J0Tha6AdvGL3"
   },
   "source": [
    "[문제4]\n",
    "\n",
    "행렬의 덧셈은 행과 열의 크기가 같은 두 행렬의 같은 행, 같은 열의 값을 서로 더한 결과가 됩니다. 2개의 행렬 arr1과 arr2가 주어졌을 때, 행렬 덧셈의 결과를 출력하는 코드를 작성해주세요(result와 같은 결과가 출력되도록 작성)\n",
    "\n",
    "arr1 = [[1,2],[2,3]]\n",
    "\n",
    "arr2 = [[3,4],[5,6]]\n",
    "\n",
    "result = [[4,6],[7,9]]"
   ]
  },
  {
   "cell_type": "code",
   "metadata": {
    "id": "ujiXrEhJvIV0",
    "ExecuteTime": {
     "end_time": "2024-10-17T06:59:05.538903Z",
     "start_time": "2024-10-17T06:59:05.534251Z"
    }
   },
   "source": [
    "arr1 = [[1,2],[2,3]]\n",
    "arr2 = [[3,4],[5,6]]\n",
    "\n",
    "# List comprehension 적용\n",
    "result = [[c1 + c2 for c1, c2 in zip(r1, r2)] for r1, r2 in zip(arr1, arr2)]\n",
    "\n",
    "print(result) "
   ],
   "outputs": [
    {
     "name": "stdout",
     "output_type": "stream",
     "text": [
      "[[1, 2], [2, 3], [3, 4], [5, 6]]\n"
     ]
    }
   ],
   "execution_count": 13
  },
  {
   "cell_type": "markdown",
   "metadata": {},
   "source": [
    "---"
   ]
  },
  {
   "cell_type": "markdown",
   "metadata": {
    "id": "eLdrWVkavJEN"
   },
   "source": [
    "    [문제5]\n",
    "\n",
    "양의 정수 x가 하샤드 수이려면 x의 자릿수의 합으로 x가 나누어져야 합니다.   \n",
    "예를 들어 18의 자릿수 합은 1+8=9이고, 18은 9로 나누어 떨어지므로 18은 하샤드 수입니다.   \n",
    "주어진 x를 이용해 x가 하샤드 수인지 아닌지 검사하는 코드를 작성해주세요\n",
    "\n",
    "x = 17\n",
    "\n",
    "----\n",
    "\n",
    "입출력 예시\n",
    "x\t결과값  \n",
    "10\ttrue  \n",
    "12\ttrue  \n",
    "11\tfalse  \n",
    "13\tfalse  "
   ]
  },
  {
   "cell_type": "code",
   "metadata": {
    "id": "EULD-IOrvKmG",
    "ExecuteTime": {
     "end_time": "2024-10-17T13:59:49.980914Z",
     "start_time": "2024-10-17T13:59:49.970258Z"
    }
   },
   "source": [
    "x = 17\n",
    "\n",
    "num_sum = sum(int(num) for num in str(x))\n",
    "\n",
    "result = x % num_sum == 0\n",
    "\n",
    "print(result) "
   ],
   "outputs": [
    {
     "name": "stdout",
     "output_type": "stream",
     "text": [
      "False\n"
     ]
    }
   ],
   "execution_count": 1
  },
  {
   "cell_type": "markdown",
   "metadata": {},
   "source": [
    "---"
   ]
  },
  {
   "cell_type": "markdown",
   "metadata": {
    "id": "GeS6hZhivLMZ"
   },
   "source": [
    "[문제6]\n",
    "\n",
    "String형 배열 seoul의 element중 \"Kim\"의 인덱스 x를 찾아, \"김서방은 x에 있다\"는 String을 출력하는 코드를 작성해주세요.   \n",
    "\n",
    "seoul에 \"Kim\"은 오직 한 번만 나타나며 잘못된 값이 입력되는 경우는 없습니다.\n",
    "\n",
    "seoul = [\"Jane\", \"Kim\"]\n",
    "\n",
    "결과\n",
    "\"김서방은 1에 있다\""
   ]
  },
  {
   "cell_type": "code",
   "metadata": {
    "id": "e4LXat3BvRRg",
    "ExecuteTime": {
     "end_time": "2024-10-17T14:10:20.166014Z",
     "start_time": "2024-10-17T14:10:20.161887Z"
    }
   },
   "source": [
    "seoul = [\"Jane\", \"Kim\"]\n",
    "\n",
    "x = seoul.index(\"Kim\")\n",
    "\n",
    "print(f'김서방은 {x}에 있다.')\n"
   ],
   "outputs": [
    {
     "name": "stdout",
     "output_type": "stream",
     "text": [
      "김서방은 1에 있다.\n"
     ]
    }
   ],
   "execution_count": 3
  },
  {
   "cell_type": "markdown",
   "metadata": {},
   "source": [
    "---"
   ]
  },
  {
   "cell_type": "markdown",
   "metadata": {
    "id": "iZjKl-ZqvOkm"
   },
   "source": [
    "[문제7]\n",
    "\n",
    "0부터 9까지의 숫자 중 일부가 들어있는 정수 배열 numbers가 주어집니다.   \n",
    "numbers에서 찾을 수 없는 0부터 9까지의 숫자를 모두 찾아 더한 수를 출력해주세요\n",
    "\n",
    "numbers = [5,8,1,0,6,9]"
   ]
  },
  {
   "metadata": {
    "id": "598DAkIHvQav",
    "ExecuteTime": {
     "end_time": "2024-10-17T06:37:18.893169Z",
     "start_time": "2024-10-17T06:37:18.883995Z"
    }
   },
   "cell_type": "code",
   "source": [
    "numbers = [5,8,1,0,6,9]\n",
    "\n",
    "all_numbers = set(range(10))\n",
    "present_numbers = set(numbers)\n",
    "\n",
    "missing_numbers = all_numbers - present_numbers\n",
    "\n",
    "result = sum(missing_numbers)\n",
    "\n",
    "print(result)\n",
    "\n"
   ],
   "outputs": [
    {
     "name": "stdout",
     "output_type": "stream",
     "text": [
      "16\n"
     ]
    }
   ],
   "execution_count": 1
  },
  {
   "cell_type": "markdown",
   "metadata": {},
   "source": [
    "#### 프로젝트: 붕어빵 자동 판매 시스템\n",
    "\n",
    "\n",
    "당신은 붕어빵 가게의 주인입니다. \n",
    "\n",
    "손님들이 붕어빵을 주문하면 이를 자동으로 처리하고, 재고를 관리하는 시스템을 만들고자 합니다. 또한, 관리자 모드를 통해 재고를 추가할 수 있는 기능을 구현해야 합니다.\n"
   ]
  },
  {
   "cell_type": "markdown",
   "metadata": {},
   "source": [
    "[문제 1: 붕어빵 재고 확인]\n",
    "\n",
    "붕어빵 가게의 현재 재고를 확인하는 기능을 구현하세요.\n",
    "\n",
    "요구사항:\n",
    "- 현재 붕어빵의 재고를 딕셔너리로 관리합니다.\n",
    "- 딕셔너리에는 붕어빵의 종류와 각각의 재고 개수가 저장됩니다.\n",
    "- 현재 재고를 화면에 출력하세요.\n",
    "\n",
    "붕어빵 재고\n",
    "- 팥붕어빵 : 10개\n",
    "- 슈크림붕어빵 : 8개\n",
    "- 초코붕어빵 : 5개"
   ]
  },
  {
   "cell_type": "code",
   "metadata": {
    "ExecuteTime": {
     "end_time": "2024-10-21T01:11:43.695908Z",
     "start_time": "2024-10-21T01:11:43.670450Z"
    }
   },
   "source": [
    "stock = {\n",
    "    \"팥붕어빵\" : 10,\n",
    "    \"슈크림붕어빵\" : 8,\n",
    "    \"초코붕어빵\" : 5\n",
    "}"
   ],
   "outputs": [],
   "execution_count": 1
  },
  {
   "cell_type": "markdown",
   "metadata": {},
   "source": [
    "[문제 2: 붕어빵 주문 받기]\n",
    "\n",
    "손님이 주문한 붕어빵의 종류와 개수를 입력받는 기능을 구현하세요.\n",
    "\n",
    "요구사항:\n",
    "- 손님이 주문할 붕어빵의 종류와 개수를 입력받습니다.\n",
    "- 주문 내용을 딕셔너리에 저장하세요.\n",
    "- 주문 내역을 출력해주세요."
   ]
  },
  {
   "cell_type": "code",
   "metadata": {
    "ExecuteTime": {
     "end_time": "2024-10-21T01:11:56.878941Z",
     "start_time": "2024-10-21T01:11:46.306756Z"
    }
   },
   "source": [
    "order = {}\n",
    "\n",
    "order_input = input(\"주문할 붕어빵 종류와 개수를 입력하세요. (예: 팥붕어빵 2, 슈크림붕어빵 3)\")\n",
    "\n",
    "orders = order_input.split(\",\")\n",
    "\n",
    "for item in orders:\n",
    "    parts = item.split()\n",
    "    bread_type = parts[0]\n",
    "    bread_count = int(parts[1])\n",
    "      \n",
    "    order[bread_type] = bread_count\n",
    "\n",
    "print(f'주문 내역: {order}')\n"
   ],
   "outputs": [
    {
     "name": "stdout",
     "output_type": "stream",
     "text": [
      "주문 내역: {'팥붕어빵': 2, '슈크림붕어빵': 3}\n"
     ]
    }
   ],
   "execution_count": 2
  },
  {
   "cell_type": "markdown",
   "metadata": {},
   "source": [
    "[문제 3: 붕어빵 주문 처리]\n",
    "\n",
    "손님의 주문을 처리하여 붕어빵 재고를 업데이트하는 기능을 구현하세요.\n",
    "\n",
    "요구사항:\n",
    "- 손님의 주문 내용을 기반으로 재고를 업데이트합니다.\n",
    "- 재고가 부족할 경우, 손님에게 재고 부족을 알리고 재고를 감소시키지 않습니다.\n",
    "- 재고가 충분할 경우, 주문한 만큼 재고를 감소시키고 판매를 완료합니다.\n",
    "- 판매가 완료된 경우 판매된 붕어빵 맛과 개수를 출력하세요."
   ]
  },
  {
   "metadata": {
    "ExecuteTime": {
     "end_time": "2024-10-21T01:12:04.679910Z",
     "start_time": "2024-10-21T01:12:04.664950Z"
    }
   },
   "cell_type": "code",
   "source": [
    "for bread_type, bread_count in order.items():\n",
    "    if stock[bread_type] >= bread_count:  # 재고 충분\n",
    "        stock[bread_type] -= bread_count  # 재고 감소\n",
    "        print(f'{bread_type} {bread_count}개 판매했습니다.')\n",
    "    else:\n",
    "        print(f'죄송합니다. {bread_type} 재고가 부족합니다.')\n"
   ],
   "outputs": [
    {
     "name": "stdout",
     "output_type": "stream",
     "text": [
      "팥붕어빵 2개 판매했습니다.\n",
      "슈크림붕어빵 3개 판매했습니다.\n"
     ]
    }
   ],
   "execution_count": 3
  },
  {
   "cell_type": "markdown",
   "metadata": {},
   "source": [
    "[문제 4: 여러 손님 주문 처리]\n",
    "\n",
    "여러 손님들의 주문을 처리할 수 있도록 시스템을 확장하세요.\n",
    "\n",
    "요구사항:\n",
    "- 손님이 \"종료\"를 입력할 때까지 주문을 계속 받습니다.\n",
    "- 각 주문마다 재고를 업데이트합니다.\n",
    "- 현재 재고를 화면에 출력합니다."
   ]
  },
  {
   "cell_type": "code",
   "metadata": {
    "ExecuteTime": {
     "end_time": "2024-10-21T01:53:47.175780Z",
     "start_time": "2024-10-21T01:53:35.435240Z"
    }
   },
   "source": [
    "while True:\n",
    "    order_input = input(\"주문할 붕어빵 종류와 개수를 입력하세요. (종료하려면 '종료' 입력): \")\n",
    "    \n",
    "# 주문 종료 처리\n",
    "    if order_input == \"종료\":\n",
    "        break\n",
    "    \n",
    "    order = {}\n",
    "    orders = order_input.split(\",\")\n",
    "    \n",
    "    for item in orders:\n",
    "        parts = item.split()\n",
    "        bread_type = parts[0]\n",
    "        bread_count = int(parts[1])\n",
    "        order[bread_type] = bread_count\n",
    "        \n",
    "    for bread_type, bread_count in order.items():\n",
    "        if stock[bread_type] >= bread_count:\n",
    "            stock[bread_type] -= bread_count\n",
    "            print(f'{bread_type} {bread_count}개 판매하였습니다.')\n",
    "        else:\n",
    "            print(f'죄송합니다. {bread_type} 재고가 부족합니다.')\n",
    "            \n",
    "    print(\"현재 붕어빵 재고:\", stock)  \n",
    "           "
   ],
   "outputs": [
    {
     "name": "stdout",
     "output_type": "stream",
     "text": [
      "초코붕어빵 2개 판매하였습니다.\n",
      "현재 붕어빵 재고: {'팥붕어빵': 6, '슈크림붕어빵': 20, '초코붕어빵': 12}\n"
     ]
    }
   ],
   "execution_count": 10
  },
  {
   "cell_type": "markdown",
   "metadata": {},
   "source": [
    "[문제 5: 관리자 모드]\n",
    "\n",
    "관리자 모드를 통해 붕어빵 재고를 추가할 수 있는 기능을 구현하세요.\n",
    "\n",
    "요구사항:\n",
    "- 관리자는 특정 붕어빵의 재고를 추가할 수 있습니다.\n",
    "- \"종료\"를 입력하면 관리자 모드를 종료합니다.\n",
    "- 추가된 재고를 업데이트하고 현재 재고를 화면에 출력합니다."
   ]
  },
  {
   "metadata": {
    "ExecuteTime": {
     "end_time": "2024-10-21T02:04:21.090612Z",
     "start_time": "2024-10-21T02:04:08.801445Z"
    }
   },
   "cell_type": "code",
   "source": [
    "while True:\n",
    "    admin_input = input(\"(관리자 모드): 추가할 붕어빵 개수를 입력하세요. (종료하려면 '종료 입력): \")\n",
    "    \n",
    "    if admin_input == \"종료\":\n",
    "        break\n",
    "        \n",
    "    additional_stocks = admin_input.split(\",\")\n",
    "        \n",
    "    for item in additional_stocks:\n",
    "        parts = item.split()\n",
    "        bread_type = parts[0]\n",
    "        bread_count = int(parts[1])      \n",
    "    \n",
    "        # 재고 업데이트\n",
    "        if bread_type in stock:\n",
    "            stock[bread_type] += bread_count\n",
    "            print(f'{bread_type}의 재고가 {bread_count}개 추가되었습니다.')\n",
    "        \n",
    "    # 현재 재고 출력\n",
    "    print(\"현재 붕어빵 재고:\", stock)       \n",
    "    "
   ],
   "outputs": [
    {
     "name": "stdout",
     "output_type": "stream",
     "text": [
      "슈크림붕어빵의 재고가 10개 추가되었습니다.\n",
      "초코붕어빵의 재고가 10개 추가되었습니다.\n",
      "현재 붕어빵 재고: {'팥붕어빵': 6, '슈크림붕어빵': 30, '초코붕어빵': 42}\n"
     ]
    }
   ],
   "execution_count": 15
  },
  {
   "cell_type": "markdown",
   "metadata": {},
   "source": [
    "[문제 6: 매출 확인]\n",
    "\n",
    "붕어빵 판매 가격을 설정하고, 판매한 붕어빵의 매출을 계산하세요.\n",
    "\n",
    "요구사항:\n",
    "- 각 붕어빵의 가격을 딕셔너리로 관리합니다.\n",
    "- 판매된 붕어빵의 종류와 개수를 딕셔너리로 관리합니다.\n",
    "- 총 매출을 계산하여 출력합니다.\n",
    "\n",
    "초기 설정:\n",
    "- 가격\n",
    "    - \"팥붕어빵\": 1000\n",
    "    - \"슈크림붕어빵\": 1200\n",
    "    - \"초코붕어빵\": 1500\n",
    "\n",
    "- 판매 개수\n",
    "    - \"팥붕어빵\": 0\n",
    "    - \"슈크림붕어빵\": 0\n",
    "    - \"초코붕어빵\": 0"
   ]
  },
  {
   "cell_type": "code",
   "metadata": {
    "ExecuteTime": {
     "end_time": "2024-10-21T04:07:50.307273Z",
     "start_time": "2024-10-21T04:07:50.300761Z"
    }
   },
   "source": [
    "# 붕어빵 가격 설정\n",
    "prices = {\n",
    "    \"팥붕어빵\": 1000,\n",
    "    \"슈크림붕어빵\": 1200,\n",
    "    \"초코붕어빵\": 1500\n",
    "}\n",
    "\n",
    "# 판매 개수 초기화\n",
    "sales = {\n",
    "    \"팥붕어빵\": 0,\n",
    "    \"슈크림붕어빵\": 0,\n",
    "    \"초코붕어빵\": 0\n",
    "}\n",
    "\n",
    "total_sales = 0\n",
    "\n",
    "# 총 매출 계산 (흐음..) 여기서 문제 발생 -> 일단 제출 후 방법 찾기.\n",
    "for bread_type, count in sales.items():\n",
    "    revenue = count * prices[bread_type]\n",
    "    total_sales += revenue\n",
    "\n",
    "print(\"총 매출:\", total_sales, \"원\")\n",
    "print(\"판매된 붕어빵 개수:\", sales)\n"
   ],
   "outputs": [
    {
     "name": "stdout",
     "output_type": "stream",
     "text": [
      "총 매출: 0 원\n",
      "판매된 붕어빵 개수: {'팥붕어빵': 0, '슈크림붕어빵': 0, '초코붕어빵': 0}\n"
     ]
    }
   ],
   "execution_count": 41
  },
  {
   "metadata": {
    "ExecuteTime": {
     "end_time": "2024-10-21T12:05:28.013880Z",
     "start_time": "2024-10-21T12:04:53.949866Z"
    }
   },
   "cell_type": "code",
   "source": [
    "# 최종 코드\n",
    "\n",
    "stock = {\n",
    "    \"팥붕어빵\": 10,\n",
    "    \"슈크림붕어빵\": 8,\n",
    "    \"초코붕어빵\": 5\n",
    "}\n",
    "prices = {\n",
    "    \"팥붕어빵\": 1000,\n",
    "    \"슈크림붕어빵\": 1200,\n",
    "    \"초코붕어빵\": 1500\n",
    "}\n",
    "sales = {\n",
    "    \"팥붕어빵\": 0,\n",
    "    \"슈크림붕어빵\": 0,\n",
    "    \"초코붕어빵\": 0\n",
    "}\n",
    "\n",
    "while True:\n",
    "    mode = input(\"원하는 모드를 선택하세요 (주문, 관리자, 종료): \")\n",
    "\n",
    "    if mode == \"종료\":\n",
    "        break\n",
    "    \n",
    "    if mode == \"관리자\":\n",
    "        while True:\n",
    "            admin_input = input(\"(관리자 모드): 추가할 붕어빵 개수를 입력하세요. (예: 팥붕어빵 2, 슈크림붕어빵 3) (종료하려면 '종료 입력): \")\n",
    "        \n",
    "            if admin_input == \"종료\":\n",
    "                break\n",
    "        \n",
    "            additional_stocks = admin_input.split(\",\")\n",
    "        \n",
    "            for item in additional_stocks:\n",
    "                parts = item.split()\n",
    "                bread_type = parts[0]\n",
    "                bread_count = int(parts[1])\n",
    "        \n",
    "                # 재고 업데이트\n",
    "                if bread_type in stock:\n",
    "                    stock[bread_type] += bread_count\n",
    "                    print(f'{bread_type}의 재고가 {bread_count}개 추가되었습니다.')\n",
    "        \n",
    "            # 현재 재고 출력\n",
    "            print(\"현재 붕어빵 재고:\", stock)\n",
    "        continue\n",
    "        \n",
    "    if mode == \"주문\":\n",
    "        while True:\n",
    "            order_input = input(\"주문할 붕어빵 종류와 개수를 입력하세요. (예: 팥붕어빵 2, 슈크림붕어빵 3) (종료하려면 '종료' 입력): \")\n",
    "        \n",
    "            # 주문 종료 처리\n",
    "            if order_input == \"종료\":\n",
    "                break\n",
    "        \n",
    "            order = {}\n",
    "            orders = order_input.split(\",\")\n",
    "        \n",
    "            for item in orders:\n",
    "                parts = item.split()\n",
    "                bread_type = parts[0]\n",
    "                bread_count = int(parts[1])\n",
    "                order[bread_type] = bread_count\n",
    "        \n",
    "            for bread_type, bread_count in order.items():\n",
    "                if stock[bread_type] >= bread_count:\n",
    "                    stock[bread_type] -= bread_count\n",
    "                    sales[bread_type] += bread_count\n",
    "                    print(f'{bread_type} {bread_count}개 판매하였습니다.')\n",
    "                else:\n",
    "                    print(f'죄송합니다. {bread_type} 재고가 부족합니다.')\n",
    "        \n",
    "            print(\"현재 붕어빵 재고:\", stock)\n",
    "            \n",
    "print(\"영업을 종료합니다.\")\n",
    "\n",
    "total_sales = 0\n",
    "\n",
    "# 총 매출 계산 \n",
    "for bread_type, count in sales.items():\n",
    "    revenue = count * prices[bread_type]\n",
    "    total_sales += revenue\n",
    "\n",
    "print(\"총 매출:\", total_sales, \"원\")\n",
    "print(\"판매된 붕어빵 개수:\", sales)\n"
   ],
   "outputs": [
    {
     "name": "stdout",
     "output_type": "stream",
     "text": [
      "팥붕어빵 3개 판매하였습니다.\n",
      "초코붕어빵 3개 판매하였습니다.\n",
      "현재 붕어빵 재고: {'팥붕어빵': 7, '슈크림붕어빵': 8, '초코붕어빵': 2}\n",
      "슈크림붕어빵의 재고가 20개 추가되었습니다.\n",
      "현재 붕어빵 재고: {'팥붕어빵': 7, '슈크림붕어빵': 28, '초코붕어빵': 2}\n",
      "영업을 종료합니다.\n",
      "총 매출: 7500 원\n",
      "판매된 붕어빵 개수: {'팥붕어빵': 3, '슈크림붕어빵': 0, '초코붕어빵': 3}\n"
     ]
    }
   ],
   "execution_count": 6
  },
  {
   "metadata": {},
   "cell_type": "code",
   "outputs": [],
   "execution_count": null,
   "source": [
    "\"\"\"\n",
    "[문제 6: 매출 확인]\n",
    "\n",
    "붕어빵 판매 가격을 설정하고, 판매한 붕어빵의 매출을 계산하세요.\n",
    "\n",
    "요구사항:\n",
    "- 각 붕어빵의 가격을 딕셔너리로 관리합니다.\n",
    "- 판매된 붕어빵의 종류와 개수를 딕셔너리로 관리합니다.\n",
    "- 총 매출을 계산하여 출력합니다.\n",
    "\n",
    "초기 설정:\n",
    "- 가격\n",
    "    - \"팥붕어빵\": 1000\n",
    "    - \"슈크림붕어빵\": 1200\n",
    "    - \"초코붕어빵\": 1500\n",
    "\n",
    "- 판매 개수\n",
    "    - \"팥붕어빵\": 0\n",
    "    - \"슈크림붕어빵\": 0\n",
    "    - \"초코붕어빵\": 0\n",
    "\"\"\"\n",
    "stock = {\"팥붕어빵\" : 10,\n",
    "        \"슈크림붕어빵\" : 8,\n",
    "        \"초코붕어빵\" : 5}\n",
    "price = {\n",
    "    \"팥붕어빵\" : 1000,\n",
    "    \"슈크림붕어빵\" : 1200,\n",
    "    \"초코붕어빵\" : 1500,\n",
    "}\n",
    "\n",
    "sales = {\n",
    "    \"팥붕어빵\" : 0,\n",
    "    \"슈크림붕어빵\" : 0,\n",
    "    \"초코붕어빵\" : 0,\n",
    "}\n",
    "\n",
    "while True:\n",
    "    mode = input(\"원하는 모드를 선택해주세요(주문, 관리자, 종료): \")\n",
    "    if mode == \"종료\":\n",
    "        break\n",
    "    if mode == \"주문\":\n",
    "        while True:\n",
    "            bread_type = input(\"붕어빵 종류를 입력해주세요(팥붕어빵, 슈크림붕어빵, 초코붕어빵 중 하나를 선택해주세요) 뒤로 돌아가길 원하시면 돌아가기를 입력해주세요 :\")\n",
    "            if bread_type == \"돌아가기\": # bread_type에는 초코붕어빵 \n",
    "                break\n",
    "            bread_count = int(input(\"주문할 붕어빵 개수를 입력해주세요 : \")) #str \"3\", '3' int() 함수 => 특정 기능이 작동되도록 모아놓은 코드다 => 자료형을 숫자로 형태의 자료로 만드는 기능의 함수\n",
    "            if stock[bread_type] >= bread_count:\n",
    "               stock[bread_type] -= bread_count #  stock[\"초코붕어빵\"] = 5-3\n",
    "               sales[bread_type] += bread_count\n",
    "               print(f\"{bread_type} {bread_count}개를 판매했습니다.\")\n",
    "            else:\n",
    "                print(\"현재 주문한 붕어빵의 개수보다 적어 판매가 불가합니다.\")\n",
    "\n",
    "    if mode == \"관리자\":\n",
    "        while True:\n",
    "            bread_type = input(\"추가할 붕어빵 종류를 입력해주세요(팥붕어빵, 슈크림붕어빵, 초코붕어빵 중 하나를 선택해주세요) 뒤로 돌아가길 원하시면 돌아가기를 입력해주세요 :\")\n",
    "            if bread_type == \"돌아가기\": # bread_type에는 초코붕어빵 \n",
    "                break\n",
    "            bread_count = int(input(\"추가할 붕어빵 개수를 입력하세요: \"))\n",
    "            stock[bread_type] += bread_count #stock[\"초코붕어빵\"] 5 + bread_count 10 => 15 => stock[\"초코붕어빵\"] = 15 덮어씌우기\n",
    "            print(f\"{bread_type}의 재고가 {bread_count}개 추가되었습니다.\")\n",
    "\n",
    "print(\"프로그램이 종료 되었습니다.\")\n",
    "total_sales = sum(sales[bread_type] * price[bread_type] for bread_type in sales)\n",
    "print(f'총 매출액: {total_sales}')\n",
    "\n"
   ]
  }
 ],
 "metadata": {
  "colab": {
   "authorship_tag": "ABX9TyMLQjyUmELFyKkx1AyovOFZ",
   "provenance": []
  },
  "kernelspec": {
   "display_name": "Python 3 (ipykernel)",
   "name": "python3",
   "language": "python"
  },
  "language_info": {
   "codemirror_mode": {
    "name": "ipython",
    "version": 3
   },
   "file_extension": ".py",
   "mimetype": "text/x-python",
   "name": "python",
   "nbconvert_exporter": "python",
   "pygments_lexer": "ipython3",
   "version": "3.11.7"
  }
 },
 "nbformat": 4,
 "nbformat_minor": 0
}
