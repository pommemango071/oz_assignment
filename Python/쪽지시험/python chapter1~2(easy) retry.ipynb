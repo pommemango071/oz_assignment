{
 "cells": [
  {
   "metadata": {},
   "cell_type": "markdown",
   "source": "# 파이썬 1~2일차 쪽지시험",
   "id": "5ce5aa2babe14282"
  },
  {
   "metadata": {},
   "cell_type": "markdown",
   "source": [
    "## 문제 1\n",
    "### 오즈코딩스쿨에서 코딩을 처음 시작한 박상훈!\n",
    "### 박상훈에게는 덩치, 애기라는 도마뱀이 있습니다.\n",
    "### 도마뱀의 나이는 각각 1살 2살 입니다.\n",
    "### 각 도마뱀의 이름으로 변수를 선언하고 각 도마뱀의 나이를 할당해주세요!!"
   ],
   "id": "136e2d85abe685b9"
  },
  {
   "metadata": {
    "ExecuteTime": {
     "end_time": "2024-10-17T14:41:56.662740Z",
     "start_time": "2024-10-17T14:41:56.658793Z"
    }
   },
   "cell_type": "code",
   "source": "덩치, 애기 = 1, 2",
   "id": "8e5a1ab9c30b38a7",
   "outputs": [],
   "execution_count": 39
  },
  {
   "metadata": {},
   "cell_type": "markdown",
   "source": [
    "## 문제 2\n",
    "### 박상훈의 `도마뱀 변수`들을 사용하여 `도마뱀 리스트`를 만들어 주세요!"
   ],
   "id": "94e68ef24ba3e5f7"
  },
  {
   "metadata": {
    "ExecuteTime": {
     "end_time": "2024-10-17T15:04:01.524033Z",
     "start_time": "2024-10-17T15:04:01.519974Z"
    }
   },
   "cell_type": "code",
   "source": [
    "도마뱀_리스트 = [\n",
    "    (\"덩치\", 덩치),\n",
    "    (\"애기\", 애기)\n",
    "]"
   ],
   "id": "b8334aff8ce27138",
   "outputs": [],
   "execution_count": 84
  },
  {
   "metadata": {},
   "cell_type": "markdown",
   "source": [
    "## 문제 3\n",
    "### 박상훈이 도마뱀을 새로 샀어요!\n",
    "### 도마뱀의 이름은 마고, 나이는 2살이에요!\n",
    "### `도마뱀 리스트`에 가장 끝에 추가해주세요!!"
   ],
   "id": "454fe842db180fc"
  },
  {
   "metadata": {
    "ExecuteTime": {
     "end_time": "2024-10-17T15:31:41.984628Z",
     "start_time": "2024-10-17T15:31:41.980450Z"
    }
   },
   "cell_type": "code",
   "source": "print(도마뱀_리스트)",
   "id": "a03ca9ef336e776",
   "outputs": [
    {
     "name": "stdout",
     "output_type": "stream",
     "text": [
      "[('덩치', 1), ('애기', 2), ['마고', 2], ['마고', 2], ['마고', 2], ['마고', 2], ['마고', 2], ['마고', 2], ['마고', 2], ['마고', 2], ['마고', 2]]\n"
     ]
    }
   ],
   "execution_count": 99
  },
  {
   "metadata": {},
   "cell_type": "markdown",
   "source": [
    "## 문제 4\n",
    "### 박상훈의 도마뱀들의 나이를 더해 주세요!!"
   ],
   "id": "20ccbdf20f857d13"
  },
  {
   "metadata": {
    "ExecuteTime": {
     "end_time": "2024-10-17T15:06:57.010921Z",
     "start_time": "2024-10-17T15:06:57.006351Z"
    }
   },
   "cell_type": "code",
   "source": [
    "도마뱀_total_age = [나이 for 이름, 나이 in 도마뱀_리스트]\n",
    "\n",
    "Total_age = sum(도마뱀_total_age)\n",
    "\n",
    "print(f'세 마리 도마뱀들의 나이를 합치면 총 {Total_age}살 입니다.')"
   ],
   "id": "3ebc179d264d3866",
   "outputs": [
    {
     "name": "stdout",
     "output_type": "stream",
     "text": [
      "세 마리 도마뱀들의 나이를 합치면 총 17살 입니다.\n"
     ]
    }
   ],
   "execution_count": 93
  },
  {
   "metadata": {},
   "cell_type": "markdown",
   "source": [
    "## 문제 5\n",
    "### 박상훈의 `도마뱀 리스트`를 사용하여 \"사육장\"이라는 딕셔너리를 만들어주세요!"
   ],
   "id": "eea768f4f558a28a"
  },
  {
   "metadata": {
    "ExecuteTime": {
     "end_time": "2024-10-17T14:55:14.764584Z",
     "start_time": "2024-10-17T14:55:14.760551Z"
    }
   },
   "cell_type": "code",
   "source": [
    "마뱀이들의_집 = { \"사육장\": 도마뱀_리스트 }\n",
    "\n",
    "print(마뱀이들의_집)"
   ],
   "id": "49874bd7d6ee7c2d",
   "outputs": [
    {
     "name": "stdout",
     "output_type": "stream",
     "text": [
      "{'사육장': [('덩치', 1), ('애기', 2)]}\n"
     ]
    }
   ],
   "execution_count": 51
  },
  {
   "metadata": {},
   "cell_type": "markdown",
   "source": [
    "## 문제 6\n",
    "### 사육장 딕셔너리를 `key, value` 형태로 출력해주세요!"
   ],
   "id": "a7b973b398f00642"
  },
  {
   "metadata": {
    "ExecuteTime": {
     "end_time": "2024-10-17T09:01:20.631532Z",
     "start_time": "2024-10-17T09:01:20.628354Z"
    }
   },
   "cell_type": "code",
   "source": "",
   "id": "94544cb2f847228f",
   "outputs": [],
   "execution_count": null
  },
  {
   "metadata": {},
   "cell_type": "markdown",
   "source": [
    "## 문제 7\n",
    "### 도마뱀들의 나이를 `실수형태`로 출력해주세요!"
   ],
   "id": "a9aa1a28e60e6bf8"
  },
  {
   "metadata": {
    "ExecuteTime": {
     "end_time": "2024-10-17T08:24:39.042513Z",
     "start_time": "2024-10-17T08:24:39.030632Z"
    }
   },
   "cell_type": "code",
   "source": [
    "age_float = [float(age) for age in [덩치, 애기, 마고]]\n",
    "print(f'도마뱀들의 나이는 덩치,애기,마고 순으로 {age_float} 살 입니다.')"
   ],
   "id": "2183407c40686977",
   "outputs": [
    {
     "name": "stdout",
     "output_type": "stream",
     "text": [
      "도마뱀들의 나이는 덩치,애기,마고 순으로 [1.0, 2.0, 2.0] 살 입니다.\n"
     ]
    }
   ],
   "execution_count": 35
  },
  {
   "metadata": {},
   "cell_type": "markdown",
   "source": [
    "## 문제 8\n",
    "### 1년이 지났습니다.\n",
    "### 도마뱀들이 1살씩 나이를 먹었어요\n",
    "### 도마뱀들의 나이를 바꿔주세요!"
   ],
   "id": "43428aabdee55513"
  },
  {
   "metadata": {
    "ExecuteTime": {
     "end_time": "2024-10-17T08:25:28.327173Z",
     "start_time": "2024-10-17T08:25:28.310128Z"
    }
   },
   "cell_type": "code",
   "source": [
    "new_ages = [age + 1 for age in [덩치, 애기, 마고]]\n",
    "\n",
    "print(f'1년 후 도마뱀들의 나이는 덩치, 애기, 마고 순으로 {new_ages} 살 입니다.')"
   ],
   "id": "286dc862809e7e80",
   "outputs": [
    {
     "name": "stdout",
     "output_type": "stream",
     "text": [
      "1년 후 도마뱀들의 나이는 덩치, 애기, 마고 순으로 [2, 3, 3] 살 입니다.\n"
     ]
    }
   ],
   "execution_count": 37
  },
  {
   "metadata": {},
   "cell_type": "markdown",
   "source": [
    "## 문제 9\n",
    "### n년이 지났을 때 도마뱀의 나이가 알고 싶어 졌어요!!\n",
    "### `input` 을 이용해서 n년차 도마뱀들의 나이를 출력해주세요!"
   ],
   "id": "ed5d1e1503e37223"
  },
  {
   "metadata": {
    "ExecuteTime": {
     "end_time": "2024-10-17T08:25:53.795519Z",
     "start_time": "2024-10-17T08:25:50.981390Z"
    }
   },
   "cell_type": "code",
   "source": [
    "n = int(input(\"몇 년이 지났나요?\"))\n",
    "\n",
    "n_new_ages = [age + n for age in [덩치, 애기, 마고]]\n",
    "\n",
    "print(f'{n}년 후 도마뱀들의 나이는 덩치, 애기, 마고 순으로 {n_new_ages}살 입니다.')"
   ],
   "id": "7a8db95dd6192d42",
   "outputs": [
    {
     "name": "stdout",
     "output_type": "stream",
     "text": [
      "3년 후 도마뱀들의 나이는 덩치, 애기, 마고 순으로 [4, 5, 5]살 입니다.\n"
     ]
    }
   ],
   "execution_count": 38
  },
  {
   "metadata": {},
   "cell_type": "markdown",
   "source": [
    "## 문제 10\n",
    "### 5년이 지났습니다\n",
    "### 우리 도마뱀들이 너무 커서 사육장을 분리해야해요!\n",
    "### 딕셔너리로 나누었던 것을 사육장1, 2, 3 `리스트`로 변경하고\n",
    "### 각 도마뱀들을 넣어주세요!"
   ],
   "id": "3e3fd38bd44d9b2e"
  },
  {
   "metadata": {
    "ExecuteTime": {
     "end_time": "2024-10-17T08:37:08.300967Z",
     "start_time": "2024-10-17T08:37:08.292427Z"
    }
   },
   "cell_type": "code",
   "source": [
    "# 문제5 딕셔너리를 리스트로 변환\n",
    "사육장_1 = [마뱀이들의_집[\"사육장\"][0]]\n",
    "사육장_2 = [마뱀이들의_집[\"사육장\"][1]]\n",
    "사육장_3 = [마뱀이들의_집[\"사육장\"][2]]\n",
    "\n",
    "print(f'사육장1: {사육장_1}, 사육장2: {사육장_2}, 사육장3: {사육장_3}')\n"
   ],
   "id": "95ad0c7878164214",
   "outputs": [
    {
     "name": "stdout",
     "output_type": "stream",
     "text": [
      "사육장1: ['덩치'], 사육장2: ['애기'], 사육장3: ['마고']\n"
     ]
    }
   ],
   "execution_count": 44
  },
  {
   "metadata": {},
   "cell_type": "markdown",
   "source": "",
   "id": "e9add10bf3ea4774"
  }
 ],
 "metadata": {
  "kernelspec": {
   "display_name": "Python 3",
   "language": "python",
   "name": "python3"
  },
  "language_info": {
   "codemirror_mode": {
    "name": "ipython",
    "version": 2
   },
   "file_extension": ".py",
   "mimetype": "text/x-python",
   "name": "python",
   "nbconvert_exporter": "python",
   "pygments_lexer": "ipython2",
   "version": "2.7.6"
  }
 },
 "nbformat": 4,
 "nbformat_minor": 5
}
